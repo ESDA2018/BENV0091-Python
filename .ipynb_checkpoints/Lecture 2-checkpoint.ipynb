{
 "cells": [
  {
   "cell_type": "code",
   "execution_count": 2,
   "metadata": {},
   "outputs": [],
   "source": [
    "import pandas as pd\n",
    "import numpy as np\n",
    "import matplotlib.pyplot as plt"
   ]
  },
  {
   "cell_type": "code",
   "execution_count": 3,
   "metadata": {
    "scrolled": true
   },
   "outputs": [
    {
     "data": {
      "image/png": "[encoded data removed]",
      "text/plain": [
       "<Figure size 432x288 with 1 Axes>"
      ]
     },
     "metadata": {},
     "output_type": "display_data"
    }
   ],
   "source": [
    "df_wbank = pd.read_csv('clean_wbank_cait_data_2014.csv') # read in csv\n",
    "df_wbank = df_wbank.dropna() # drop na\n",
    "df_wbank = df_wbank.sort_values('total_co2', ascending=True).reset_index(drop=True) # sort by emissions\n",
    "df_wbank['cum_sum'] = 100*df_wbank.total_co2.cumsum()/df_wbank.total_co2.sum() # determine pct emissions\n",
    "\n",
    "## Plotting cumulative emissions\n",
    "df_wbank.plot(y='cum_sum')\n",
    "plt.show()"
   ]
  },
  {
   "cell_type": "code",
   "execution_count": 4,
   "metadata": {
    "scrolled": true
   },
   "outputs": [
    {
     "data": {
      "text/html": [
       "<div>\n",
       "<style scoped>\n",
       "    .dataframe tbody tr th:only-of-type {\n",
       "        vertical-align: middle;\n",
       "    }\n",
       "\n",
       "    .dataframe tbody tr th {\n",
       "        vertical-align: top;\n",
       "    }\n",
       "\n",
       "    .dataframe thead th {\n",
       "        text-align: right;\n",
       "    }\n",
       "</style>\n",
       "<table border=\"1\" class=\"dataframe\">\n",
       "  <thead>\n",
       "    <tr style=\"text-align: right;\">\n",
       "      <th></th>\n",
       "      <th>year</th>\n",
       "      <th>GDP</th>\n",
       "      <th>GDP_per_cap</th>\n",
       "      <th>total_co2</th>\n",
       "      <th>pop</th>\n",
       "      <th>cum_sum</th>\n",
       "      <th>alpha-3</th>\n",
       "      <th>region</th>\n",
       "      <th>sub-region</th>\n",
       "    </tr>\n",
       "  </thead>\n",
       "  <tbody>\n",
       "    <tr>\n",
       "      <th>Tuvalu</th>\n",
       "      <td>2014</td>\n",
       "      <td>3.725969e+07</td>\n",
       "      <td>3415.813158</td>\n",
       "      <td>0.0110</td>\n",
       "      <td>10907.999998</td>\n",
       "      <td>0.000035</td>\n",
       "      <td>TUV</td>\n",
       "      <td>Oceania</td>\n",
       "      <td>Polynesia</td>\n",
       "    </tr>\n",
       "    <tr>\n",
       "      <th>Liechtenstein</th>\n",
       "      <td>2014</td>\n",
       "      <td>6.663501e+09</td>\n",
       "      <td>179478.584800</td>\n",
       "      <td>0.0440</td>\n",
       "      <td>37127.000006</td>\n",
       "      <td>0.000175</td>\n",
       "      <td>LIE</td>\n",
       "      <td>Europe</td>\n",
       "      <td>Western Europe</td>\n",
       "    </tr>\n",
       "    <tr>\n",
       "      <th>Nauru</th>\n",
       "      <td>2014</td>\n",
       "      <td>1.170204e+08</td>\n",
       "      <td>9872.638314</td>\n",
       "      <td>0.0476</td>\n",
       "      <td>11852.999996</td>\n",
       "      <td>0.000327</td>\n",
       "      <td>NRU</td>\n",
       "      <td>Oceania</td>\n",
       "      <td>Micronesia</td>\n",
       "    </tr>\n",
       "    <tr>\n",
       "      <th>Kiribati</th>\n",
       "      <td>2014</td>\n",
       "      <td>1.860670e+08</td>\n",
       "      <td>1684.504274</td>\n",
       "      <td>0.0623</td>\n",
       "      <td>110458.000001</td>\n",
       "      <td>0.000526</td>\n",
       "      <td>KIR</td>\n",
       "      <td>Oceania</td>\n",
       "      <td>Micronesia</td>\n",
       "    </tr>\n",
       "    <tr>\n",
       "      <th>Marshall Islands</th>\n",
       "      <td>2014</td>\n",
       "      <td>1.831141e+08</td>\n",
       "      <td>3461.645053</td>\n",
       "      <td>0.1026</td>\n",
       "      <td>52897.999996</td>\n",
       "      <td>0.000853</td>\n",
       "      <td>MHL</td>\n",
       "      <td>Oceania</td>\n",
       "      <td>Micronesia</td>\n",
       "    </tr>\n",
       "  </tbody>\n",
       "</table>\n",
       "</div>"
      ],
      "text/plain": [
       "                  year           GDP    GDP_per_cap  total_co2            pop  \\\n",
       "Tuvalu            2014  3.725969e+07    3415.813158     0.0110   10907.999998   \n",
       "Liechtenstein     2014  6.663501e+09  179478.584800     0.0440   37127.000006   \n",
       "Nauru             2014  1.170204e+08    9872.638314     0.0476   11852.999996   \n",
       "Kiribati          2014  1.860670e+08    1684.504274     0.0623  110458.000001   \n",
       "Marshall Islands  2014  1.831141e+08    3461.645053     0.1026   52897.999996   \n",
       "\n",
       "                   cum_sum alpha-3   region      sub-region  \n",
       "Tuvalu            0.000035     TUV  Oceania       Polynesia  \n",
       "Liechtenstein     0.000175     LIE   Europe  Western Europe  \n",
       "Nauru             0.000327     NRU  Oceania      Micronesia  \n",
       "Kiribati          0.000526     KIR  Oceania      Micronesia  \n",
       "Marshall Islands  0.000853     MHL  Oceania      Micronesia  "
      ]
     },
     "execution_count": 4,
     "metadata": {},
     "output_type": "execute_result"
    }
   ],
   "source": [
    "## Read in geo dataframe and drop unnecessary columns\n",
    "df_geo = pd.read_csv('geo_data.csv')\n",
    "df_geo = df_geo.drop(columns=['alpha-2', 'country-code', 'intermediate-region', 'iso_3166-2', 'region-code', 'sub-region-code', 'intermediate-region-code'])\n",
    "\n",
    "## Combine the two dataframes\n",
    "df_comb = df_wbank.set_index('country', drop=True).join(df_geo.set_index('name', drop=True), how='inner')\n",
    "df_comb.head()"
   ]
  },
  {
   "cell_type": "code",
   "execution_count": 5,
   "metadata": {},
   "outputs": [
    {
     "name": "stdout",
     "output_type": "stream",
     "text": [
      "Number of sub regions: 17\n"
     ]
    }
   ],
   "source": [
    "## How many distinct regions are matched in our data? \n",
    "sub_reg_list = list(df_comb['sub-region'].unique()) # Create a list of unique sub-regions\n",
    "sub_reg_num = len(sub_reg_list) # determine the length of the sub-region list\n",
    "\n",
    "print(f'Number of sub regions: {sub_reg_num}')"
   ]
  },
  {
   "cell_type": "code",
   "execution_count": 6,
   "metadata": {},
   "outputs": [
    {
     "data": {
      "text/html": [
       "<div>\n",
       "<style scoped>\n",
       "    .dataframe tbody tr th:only-of-type {\n",
       "        vertical-align: middle;\n",
       "    }\n",
       "\n",
       "    .dataframe tbody tr th {\n",
       "        vertical-align: top;\n",
       "    }\n",
       "\n",
       "    .dataframe thead th {\n",
       "        text-align: right;\n",
       "    }\n",
       "</style>\n",
       "<table border=\"1\" class=\"dataframe\">\n",
       "  <thead>\n",
       "    <tr style=\"text-align: right;\">\n",
       "      <th></th>\n",
       "      <th>GDP</th>\n",
       "      <th>total_co2</th>\n",
       "      <th>pop</th>\n",
       "      <th>Count</th>\n",
       "    </tr>\n",
       "    <tr>\n",
       "      <th>region</th>\n",
       "      <th></th>\n",
       "      <th></th>\n",
       "      <th></th>\n",
       "      <th></th>\n",
       "    </tr>\n",
       "  </thead>\n",
       "  <tbody>\n",
       "    <tr>\n",
       "      <th>Africa</th>\n",
       "      <td>1.996504e+12</td>\n",
       "      <td>955.4752</td>\n",
       "      <td>8.910159e+08</td>\n",
       "      <td>42</td>\n",
       "    </tr>\n",
       "    <tr>\n",
       "      <th>Americas</th>\n",
       "      <td>7.505730e+12</td>\n",
       "      <td>2127.4011</td>\n",
       "      <td>6.126363e+08</td>\n",
       "      <td>26</td>\n",
       "    </tr>\n",
       "    <tr>\n",
       "      <th>Asia</th>\n",
       "      <td>2.392052e+13</td>\n",
       "      <td>17217.0049</td>\n",
       "      <td>4.013075e+09</td>\n",
       "      <td>37</td>\n",
       "    </tr>\n",
       "    <tr>\n",
       "      <th>Europe</th>\n",
       "      <td>1.882061e+13</td>\n",
       "      <td>4654.6953</td>\n",
       "      <td>6.493073e+08</td>\n",
       "      <td>34</td>\n",
       "    </tr>\n",
       "    <tr>\n",
       "      <th>Oceania</th>\n",
       "      <td>1.686391e+12</td>\n",
       "      <td>419.3468</td>\n",
       "      <td>3.796491e+07</td>\n",
       "      <td>13</td>\n",
       "    </tr>\n",
       "  </tbody>\n",
       "</table>\n",
       "</div>"
      ],
      "text/plain": [
       "                   GDP   total_co2           pop  Count\n",
       "region                                                 \n",
       "Africa    1.996504e+12    955.4752  8.910159e+08     42\n",
       "Americas  7.505730e+12   2127.4011  6.126363e+08     26\n",
       "Asia      2.392052e+13  17217.0049  4.013075e+09     37\n",
       "Europe    1.882061e+13   4654.6953  6.493073e+08     34\n",
       "Oceania   1.686391e+12    419.3468  3.796491e+07     13"
      ]
     },
     "execution_count": 6,
     "metadata": {},
     "output_type": "execute_result"
    }
   ],
   "source": [
    "## Grouping by region\n",
    "df_groupby_reg = df_comb.groupby(['region']) # Create a groupby object based on region\n",
    "df_regions = df_groupby_reg.sum().drop(columns=['year', 'GDP_per_cap', 'cum_sum']) # Sum relevant vars across regions\n",
    "df_regions['Count'] = df_groupby_reg.agg('count')['year'] # Count the number of countries in each region\n",
    "df_regions"
   ]
  },
  {
   "cell_type": "code",
   "execution_count": 7,
   "metadata": {},
   "outputs": [
    {
     "data": {
      "text/html": [
       "<div>\n",
       "<style scoped>\n",
       "    .dataframe tbody tr th:only-of-type {\n",
       "        vertical-align: middle;\n",
       "    }\n",
       "\n",
       "    .dataframe tbody tr th {\n",
       "        vertical-align: top;\n",
       "    }\n",
       "\n",
       "    .dataframe thead th {\n",
       "        text-align: right;\n",
       "    }\n",
       "</style>\n",
       "<table border=\"1\" class=\"dataframe\">\n",
       "  <thead>\n",
       "    <tr style=\"text-align: right;\">\n",
       "      <th></th>\n",
       "      <th>GDP</th>\n",
       "      <th>total_co2</th>\n",
       "      <th>pop</th>\n",
       "      <th>Count</th>\n",
       "    </tr>\n",
       "    <tr>\n",
       "      <th>region</th>\n",
       "      <th></th>\n",
       "      <th></th>\n",
       "      <th></th>\n",
       "      <th></th>\n",
       "    </tr>\n",
       "  </thead>\n",
       "  <tbody>\n",
       "    <tr>\n",
       "      <th>Africa</th>\n",
       "      <td>3.702044</td>\n",
       "      <td>3.765579</td>\n",
       "      <td>14.361961</td>\n",
       "      <td>42</td>\n",
       "    </tr>\n",
       "    <tr>\n",
       "      <th>Americas</th>\n",
       "      <td>13.917603</td>\n",
       "      <td>8.384202</td>\n",
       "      <td>9.874861</td>\n",
       "      <td>26</td>\n",
       "    </tr>\n",
       "    <tr>\n",
       "      <th>Asia</th>\n",
       "      <td>44.354954</td>\n",
       "      <td>67.853145</td>\n",
       "      <td>64.685289</td>\n",
       "      <td>37</td>\n",
       "    </tr>\n",
       "    <tr>\n",
       "      <th>Europe</th>\n",
       "      <td>34.898384</td>\n",
       "      <td>18.344405</td>\n",
       "      <td>10.465947</td>\n",
       "      <td>34</td>\n",
       "    </tr>\n",
       "    <tr>\n",
       "      <th>Oceania</th>\n",
       "      <td>3.127014</td>\n",
       "      <td>1.652668</td>\n",
       "      <td>0.611943</td>\n",
       "      <td>13</td>\n",
       "    </tr>\n",
       "  </tbody>\n",
       "</table>\n",
       "</div>"
      ],
      "text/plain": [
       "                GDP  total_co2        pop  Count\n",
       "region                                          \n",
       "Africa     3.702044   3.765579  14.361961     42\n",
       "Americas  13.917603   8.384202   9.874861     26\n",
       "Asia      44.354954  67.853145  64.685289     37\n",
       "Europe    34.898384  18.344405  10.465947     34\n",
       "Oceania    3.127014   1.652668   0.611943     13"
      ]
     },
     "execution_count": 7,
     "metadata": {},
     "output_type": "execute_result"
    }
   ],
   "source": [
    "df_regions_pct = df_regions.copy() # Create a new df for percentages\n",
    "\n",
    "pct_cols = ['GDP', 'total_co2', 'pop'] # List of relevant column names\n",
    "for col in pct_cols: # Here we loop over each column named in the list\n",
    "    df_regions_pct[col] = 100*df_regions_pct[col]/df_regions_pct[col].sum()\n",
    "    \n",
    "df_regions_pct"
   ]
  }
 ],
 "metadata": {
  "kernelspec": {
   "display_name": "Python 3",
   "language": "python",
   "name": "python3"
  },
  "language_info": {
   "codemirror_mode": {
    "name": "ipython",
    "version": 3
   },
   "file_extension": ".py",
   "mimetype": "text/x-python",
   "name": "python",
   "nbconvert_exporter": "python",
   "pygments_lexer": "ipython3",
   "version": "3.6.5"
  }
 },
 "nbformat": 4,
 "nbformat_minor": 2
}
